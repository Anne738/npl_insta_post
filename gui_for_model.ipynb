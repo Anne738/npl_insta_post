{
 "cells": [
  {
   "cell_type": "code",
   "execution_count": 25,
   "id": "34dd4892",
   "metadata": {},
   "outputs": [
    {
     "name": "stderr",
     "output_type": "stream",
     "text": [
      "The attention mask and the pad token id were not set. As a consequence, you may observe unexpected behavior. Please pass your input's `attention_mask` to obtain reliable results.\n",
      "Setting `pad_token_id` to `eos_token_id`:50256 for open-end generation.\n",
      "The attention mask and the pad token id were not set. As a consequence, you may observe unexpected behavior. Please pass your input's `attention_mask` to obtain reliable results.\n",
      "Setting `pad_token_id` to `eos_token_id`:50256 for open-end generation.\n"
     ]
    }
   ],
   "source": [
    "import tkinter as tk\n",
    "from tkinter import scrolledtext\n",
    "from transformers import GPT2Tokenizer, GPT2LMHeadModel\n",
    "\n",
    "# loading model and tokenizer\n",
    "tokenizer = GPT2Tokenizer.from_pretrained(\"gpt2\")\n",
    "model = GPT2LMHeadModel.from_pretrained(\"./model-5e/content/model-5e\")\n",
    "\n",
    "# gui\n",
    "def generate_text(prompt_text, max_length=100):\n",
    "    if not prompt_text.endswith('.'):\n",
    "        prompt_text += '.'\n",
    "    input_ids = tokenizer.encode(prompt_text, return_tensors=\"pt\")\n",
    "    output = model.generate(input_ids, max_length=max_length+len(input_ids[0])-1, num_return_sequences=1)\n",
    "    response = tokenizer.decode(output[0][len(input_ids[0]):], skip_special_tokens=True)\n",
    "    return response\n",
    "\n",
    "def generate_button_click():\n",
    "    prompt_text = input_text.get(\"1.0\", tk.END).strip()\n",
    "    generated_text = generate_text(prompt_text)\n",
    "    output_text.delete(\"1.0\", tk.END)\n",
    "    output_text.insert(tk.END, generated_text)\n",
    "\n",
    "root = tk.Tk()\n",
    "root.title(\"Instagram post generator\")\n",
    "\n",
    "input_text = scrolledtext.ScrolledText(root, width=50, height=10, wrap=tk.WORD)\n",
    "input_text.grid(row=0, column=0, padx=10, pady=10)\n",
    "\n",
    "generate_button = tk.Button(root, text=\"generate\", command=generate_button_click)\n",
    "generate_button.grid(row=1, column=0, padx=10, pady=5)\n",
    "\n",
    "output_text = scrolledtext.ScrolledText(root, width=50, height=10, wrap=tk.WORD)\n",
    "output_text.grid(row=2, column=0, padx=10, pady=10)\n",
    "\n",
    "root.mainloop()"
   ]
  },
  {
   "cell_type": "code",
   "execution_count": 37,
   "id": "708dc23a",
   "metadata": {},
   "outputs": [
    {
     "name": "stderr",
     "output_type": "stream",
     "text": [
      "The attention mask and the pad token id were not set. As a consequence, you may observe unexpected behavior. Please pass your input's `attention_mask` to obtain reliable results.\n",
      "Setting `pad_token_id` to `eos_token_id`:50256 for open-end generation.\n"
     ]
    },
    {
     "data": {
      "text/plain": [
       "' who want to explore new terrain, but don’t want to carry a lot of gear.   Check it out via the link in our bio!  #OspreyPacks\\n“The world is full of wonders, but the greatest of them all is not the wonder itself, but the observer who looks upon it.” - Ralph Waldo Emerson | 📷 @dan.holz.photo | Featured pack from the Daylite Series #ospreypacks'"
      ]
     },
     "execution_count": 37,
     "metadata": {},
     "output_type": "execute_result"
    }
   ],
   "source": [
    "# generate_text(\"created a new post about the “Adventure” model backpack for 25 liters for $200, which is great for climbers\")"
   ]
  }
 ],
 "metadata": {
  "kernelspec": {
   "display_name": "Python 3 (ipykernel)",
   "language": "python",
   "name": "python3"
  },
  "language_info": {
   "codemirror_mode": {
    "name": "ipython",
    "version": 3
   },
   "file_extension": ".py",
   "mimetype": "text/x-python",
   "name": "python",
   "nbconvert_exporter": "python",
   "pygments_lexer": "ipython3",
   "version": "3.9.7"
  }
 },
 "nbformat": 4,
 "nbformat_minor": 5
}
